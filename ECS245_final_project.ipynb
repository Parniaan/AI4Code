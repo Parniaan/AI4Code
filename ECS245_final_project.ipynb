{
  "nbformat": 4,
  "nbformat_minor": 0,
  "metadata": {
    "colab": {
      "provenance": [],
      "authorship_tag": "ABX9TyNDb/zqq6mGATDMiWB5Trzu",
      "include_colab_link": true
    },
    "kernelspec": {
      "name": "python3",
      "display_name": "Python 3"
    },
    "language_info": {
      "name": "python"
    }
  },
  "cells": [
    {
      "cell_type": "markdown",
      "metadata": {
        "id": "view-in-github",
        "colab_type": "text"
      },
      "source": [
        "<a href=\"https://colab.research.google.com/github/Parniaan/AI4Code/blob/main/ECS245_final_project.ipynb\" target=\"_parent\"><img src=\"https://colab.research.google.com/assets/colab-badge.svg\" alt=\"Open In Colab\"/></a>"
      ]
    },
    {
      "cell_type": "markdown",
      "source": [
        "**Logistic Regression**"
      ],
      "metadata": {
        "id": "LJImvtZMxAlz"
      }
    },
    {
      "cell_type": "code",
      "execution_count": 52,
      "metadata": {
        "id": "F4mKLaOa9CnP"
      },
      "outputs": [],
      "source": [
        "import torch\n",
        "import torch.nn as nn\n",
        "import torch.optim as optim\n",
        "import pandas as pd\n",
        "from sklearn.model_selection import train_test_split\n",
        "from sklearn.preprocessing import StandardScaler\n",
        "import matplotlib.pyplot as plt\n",
        "import seaborn as sns\n",
        "import os"
      ]
    },
    {
      "cell_type": "code",
      "source": [
        "from google.colab import files\n",
        "uploaded = files.upload()"
      ],
      "metadata": {
        "colab": {
          "base_uri": "https://localhost:8080/",
          "height": 38
        },
        "id": "TMEia_-z3ATB",
        "outputId": "f195c5aa-33a6-4f0b-ea51-c29067d1f0b1"
      },
      "execution_count": null,
      "outputs": [
        {
          "output_type": "display_data",
          "data": {
            "text/plain": [
              "<IPython.core.display.HTML object>"
            ],
            "text/html": [
              "\n",
              "     <input type=\"file\" id=\"files-f45d67b5-8361-488c-a013-2d8621db1926\" name=\"files[]\" multiple disabled\n",
              "        style=\"border:none\" />\n",
              "     <output id=\"result-f45d67b5-8361-488c-a013-2d8621db1926\">\n",
              "      Upload widget is only available when the cell has been executed in the\n",
              "      current browser session. Please rerun this cell to enable.\n",
              "      </output>\n",
              "      <script>// Copyright 2017 Google LLC\n",
              "//\n",
              "// Licensed under the Apache License, Version 2.0 (the \"License\");\n",
              "// you may not use this file except in compliance with the License.\n",
              "// You may obtain a copy of the License at\n",
              "//\n",
              "//      http://www.apache.org/licenses/LICENSE-2.0\n",
              "//\n",
              "// Unless required by applicable law or agreed to in writing, software\n",
              "// distributed under the License is distributed on an \"AS IS\" BASIS,\n",
              "// WITHOUT WARRANTIES OR CONDITIONS OF ANY KIND, either express or implied.\n",
              "// See the License for the specific language governing permissions and\n",
              "// limitations under the License.\n",
              "\n",
              "/**\n",
              " * @fileoverview Helpers for google.colab Python module.\n",
              " */\n",
              "(function(scope) {\n",
              "function span(text, styleAttributes = {}) {\n",
              "  const element = document.createElement('span');\n",
              "  element.textContent = text;\n",
              "  for (const key of Object.keys(styleAttributes)) {\n",
              "    element.style[key] = styleAttributes[key];\n",
              "  }\n",
              "  return element;\n",
              "}\n",
              "\n",
              "// Max number of bytes which will be uploaded at a time.\n",
              "const MAX_PAYLOAD_SIZE = 100 * 1024;\n",
              "\n",
              "function _uploadFiles(inputId, outputId) {\n",
              "  const steps = uploadFilesStep(inputId, outputId);\n",
              "  const outputElement = document.getElementById(outputId);\n",
              "  // Cache steps on the outputElement to make it available for the next call\n",
              "  // to uploadFilesContinue from Python.\n",
              "  outputElement.steps = steps;\n",
              "\n",
              "  return _uploadFilesContinue(outputId);\n",
              "}\n",
              "\n",
              "// This is roughly an async generator (not supported in the browser yet),\n",
              "// where there are multiple asynchronous steps and the Python side is going\n",
              "// to poll for completion of each step.\n",
              "// This uses a Promise to block the python side on completion of each step,\n",
              "// then passes the result of the previous step as the input to the next step.\n",
              "function _uploadFilesContinue(outputId) {\n",
              "  const outputElement = document.getElementById(outputId);\n",
              "  const steps = outputElement.steps;\n",
              "\n",
              "  const next = steps.next(outputElement.lastPromiseValue);\n",
              "  return Promise.resolve(next.value.promise).then((value) => {\n",
              "    // Cache the last promise value to make it available to the next\n",
              "    // step of the generator.\n",
              "    outputElement.lastPromiseValue = value;\n",
              "    return next.value.response;\n",
              "  });\n",
              "}\n",
              "\n",
              "/**\n",
              " * Generator function which is called between each async step of the upload\n",
              " * process.\n",
              " * @param {string} inputId Element ID of the input file picker element.\n",
              " * @param {string} outputId Element ID of the output display.\n",
              " * @return {!Iterable<!Object>} Iterable of next steps.\n",
              " */\n",
              "function* uploadFilesStep(inputId, outputId) {\n",
              "  const inputElement = document.getElementById(inputId);\n",
              "  inputElement.disabled = false;\n",
              "\n",
              "  const outputElement = document.getElementById(outputId);\n",
              "  outputElement.innerHTML = '';\n",
              "\n",
              "  const pickedPromise = new Promise((resolve) => {\n",
              "    inputElement.addEventListener('change', (e) => {\n",
              "      resolve(e.target.files);\n",
              "    });\n",
              "  });\n",
              "\n",
              "  const cancel = document.createElement('button');\n",
              "  inputElement.parentElement.appendChild(cancel);\n",
              "  cancel.textContent = 'Cancel upload';\n",
              "  const cancelPromise = new Promise((resolve) => {\n",
              "    cancel.onclick = () => {\n",
              "      resolve(null);\n",
              "    };\n",
              "  });\n",
              "\n",
              "  // Wait for the user to pick the files.\n",
              "  const files = yield {\n",
              "    promise: Promise.race([pickedPromise, cancelPromise]),\n",
              "    response: {\n",
              "      action: 'starting',\n",
              "    }\n",
              "  };\n",
              "\n",
              "  cancel.remove();\n",
              "\n",
              "  // Disable the input element since further picks are not allowed.\n",
              "  inputElement.disabled = true;\n",
              "\n",
              "  if (!files) {\n",
              "    return {\n",
              "      response: {\n",
              "        action: 'complete',\n",
              "      }\n",
              "    };\n",
              "  }\n",
              "\n",
              "  for (const file of files) {\n",
              "    const li = document.createElement('li');\n",
              "    li.append(span(file.name, {fontWeight: 'bold'}));\n",
              "    li.append(span(\n",
              "        `(${file.type || 'n/a'}) - ${file.size} bytes, ` +\n",
              "        `last modified: ${\n",
              "            file.lastModifiedDate ? file.lastModifiedDate.toLocaleDateString() :\n",
              "                                    'n/a'} - `));\n",
              "    const percent = span('0% done');\n",
              "    li.appendChild(percent);\n",
              "\n",
              "    outputElement.appendChild(li);\n",
              "\n",
              "    const fileDataPromise = new Promise((resolve) => {\n",
              "      const reader = new FileReader();\n",
              "      reader.onload = (e) => {\n",
              "        resolve(e.target.result);\n",
              "      };\n",
              "      reader.readAsArrayBuffer(file);\n",
              "    });\n",
              "    // Wait for the data to be ready.\n",
              "    let fileData = yield {\n",
              "      promise: fileDataPromise,\n",
              "      response: {\n",
              "        action: 'continue',\n",
              "      }\n",
              "    };\n",
              "\n",
              "    // Use a chunked sending to avoid message size limits. See b/62115660.\n",
              "    let position = 0;\n",
              "    do {\n",
              "      const length = Math.min(fileData.byteLength - position, MAX_PAYLOAD_SIZE);\n",
              "      const chunk = new Uint8Array(fileData, position, length);\n",
              "      position += length;\n",
              "\n",
              "      const base64 = btoa(String.fromCharCode.apply(null, chunk));\n",
              "      yield {\n",
              "        response: {\n",
              "          action: 'append',\n",
              "          file: file.name,\n",
              "          data: base64,\n",
              "        },\n",
              "      };\n",
              "\n",
              "      let percentDone = fileData.byteLength === 0 ?\n",
              "          100 :\n",
              "          Math.round((position / fileData.byteLength) * 100);\n",
              "      percent.textContent = `${percentDone}% done`;\n",
              "\n",
              "    } while (position < fileData.byteLength);\n",
              "  }\n",
              "\n",
              "  // All done.\n",
              "  yield {\n",
              "    response: {\n",
              "      action: 'complete',\n",
              "    }\n",
              "  };\n",
              "}\n",
              "\n",
              "scope.google = scope.google || {};\n",
              "scope.google.colab = scope.google.colab || {};\n",
              "scope.google.colab._files = {\n",
              "  _uploadFiles,\n",
              "  _uploadFilesContinue,\n",
              "};\n",
              "})(self);\n",
              "</script> "
            ]
          },
          "metadata": {}
        }
      ]
    },
    {
      "cell_type": "code",
      "source": [
        "from google.colab import drive\n",
        "drive.mount('/content/drive')"
      ],
      "metadata": {
        "colab": {
          "base_uri": "https://localhost:8080/"
        },
        "id": "wHdOQhl9310U",
        "outputId": "b1955e3e-cf29-4172-f906-2a2f09149bfe"
      },
      "execution_count": 36,
      "outputs": [
        {
          "output_type": "stream",
          "name": "stdout",
          "text": [
            "Drive already mounted at /content/drive; to attempt to forcibly remount, call drive.mount(\"/content/drive\", force_remount=True).\n"
          ]
        }
      ]
    },
    {
      "cell_type": "code",
      "source": [
        "data_dir = '/content/drive/My Drive/ECS245/data'"
      ],
      "metadata": {
        "id": "EOezGgxF6l_O"
      },
      "execution_count": 53,
      "outputs": []
    },
    {
      "cell_type": "code",
      "source": [
        "!ls \"/content/drive/My Drive/ECS245/data/\""
      ],
      "metadata": {
        "colab": {
          "base_uri": "https://localhost:8080/"
        },
        "id": "sKTSwCDh2Z2N",
        "outputId": "f643fc29-fd5b-4bb4-bd2c-670e10983978"
      },
      "execution_count": 38,
      "outputs": [
        {
          "output_type": "stream",
          "name": "stdout",
          "text": [
            "merged_logs.csv\t\t\tshuffled_logs.csv  unreproducible_logs_failed.csv\n",
            "reproducible_logs_failed.csv\ttest_logs.csv\t   unreproducible_logs_metadata.csv\n",
            "reproducible_logs_metadata.csv\ttrain_logs.csv\n"
          ]
        }
      ]
    },
    {
      "cell_type": "code",
      "source": [
        "reproducible_logs = os.path.join(data_dir,\"reproducible_logs_metadata.csv\")\n",
        "reproducible_df = pd.read_csv(reproducible_logs)\n",
        "print(reproducible_df.head())"
      ],
      "metadata": {
        "colab": {
          "base_uri": "https://localhost:8080/"
        },
        "id": "XuSet7jPvOgj",
        "outputId": "e87381c9-5aec-46b1-ce86-db02920d9263"
      },
      "execution_count": 55,
      "outputs": [
        {
          "output_type": "stream",
          "name": "stdout",
          "text": [
            "   Unnamed: 0                                           artifact  tr_build_id  \\\n",
            "0           0                         raphw-byte-buddy-168135150          NaN   \n",
            "1           1                         raphw-byte-buddy-168135150          NaN   \n",
            "2           2  Adobe-Consulting-Services-acs-aem-commons-4565...          NaN   \n",
            "3           3  Adobe-Consulting-Services-acs-aem-commons-4565...          NaN   \n",
            "4           4                             owlcs-owlapi-112316293          NaN   \n",
            "\n",
            "                                           tr_job_id tr_log_lan tr_log_status  \\\n",
            "0                         raphw-byte-buddy-168135150       java            ok   \n",
            "1                         raphw-byte-buddy-168135150       java            ok   \n",
            "2  Adobe-Consulting-Services-acs-aem-commons-4565...       java            ok   \n",
            "3  Adobe-Consulting-Services-acs-aem-commons-4565...       java            ok   \n",
            "4                             owlcs-owlapi-112316293       java            ok   \n",
            "\n",
            "   tr_log_setup_time tr_log_analyzer tr_log_frameworks  tr_log_bool_tests_ran  \\\n",
            "0                NaN      java-maven             JUnit                   True   \n",
            "1                NaN      java-maven             JUnit                   True   \n",
            "2                NaN      java-maven             JUnit                   True   \n",
            "3                NaN      java-maven             JUnit                   True   \n",
            "4                NaN      java-maven               NaN                  False   \n",
            "\n",
            "   ...                                         tr_err_msg  tr_build_image  \\\n",
            "0  ...  net.sourceforge.cobertura.javancss.parser.Pars...             NaN   \n",
            "1  ...  Failed to execute goal org.apache.maven.plugin...             NaN   \n",
            "2  ...  Tests run: 9, Failures: 0, Errors: 1, Skipped:...             NaN   \n",
            "3  ...                                                NaN             NaN   \n",
            "4  ...  COMPILATION ERROR : #/home/travis/build/owlcs/...             NaN   \n",
            "\n",
            "   tr_worker_instance  tr_using_worker  tr_os  tr_connection_lines  \\\n",
            "0                 NaN              NaN    NaN                  NaN   \n",
            "1                 NaN              NaN    NaN                  NaN   \n",
            "2                 NaN              NaN    NaN                  NaN   \n",
            "3                 NaN              NaN    NaN                  NaN   \n",
            "4                 NaN              NaN    NaN                  NaN   \n",
            "\n",
            "   tr_could_not_resolve_dep tr_cookbook  tr_invalid_log  tr_build_system  \n",
            "0                       NaN         NaN             NaN            Maven  \n",
            "1                       NaN         NaN             NaN            Maven  \n",
            "2                       NaN         NaN             NaN            Maven  \n",
            "3                       NaN         NaN             NaN            Maven  \n",
            "4                       NaN         NaN             NaN            Maven  \n",
            "\n",
            "[5 rows x 30 columns]\n"
          ]
        }
      ]
    },
    {
      "cell_type": "code",
      "source": [
        "unreproducible_logs = os.path.join(data_dir, \"unreproducible_logs_metadata.csv\")\n",
        "unreproducible_df = pd.read_csv(unreproducible_logs)\n",
        "print(unreproducible_df.head())"
      ],
      "metadata": {
        "colab": {
          "base_uri": "https://localhost:8080/"
        },
        "id": "BKAlspRL3kwB",
        "outputId": "705e97f1-3534-4821-aad4-4c6bb756e0b3"
      },
      "execution_count": 56,
      "outputs": [
        {
          "output_type": "stream",
          "name": "stdout",
          "text": [
            "   Unnamed: 0                                           artifact  tr_build_id  \\\n",
            "0           0              yt-dlp-yt-dlp-33086858046-33086876535          NaN   \n",
            "1           1              yt-dlp-yt-dlp-33086858046-33086876535          NaN   \n",
            "2           2                kcctl-kcctl-32758363399-32758805737          NaN   \n",
            "3           3                kcctl-kcctl-32758363399-32758805737          NaN   \n",
            "4           4  python-websockets-websockets-32906849507-32906...          NaN   \n",
            "\n",
            "     tr_job_id tr_log_lan tr_log_status  tr_log_setup_time tr_log_analyzer  \\\n",
            "0  33086876535     python            ok               2.17          python   \n",
            "1  33086858046     python        broken               2.81          python   \n",
            "2  32758805737       java            ok               3.24      java-maven   \n",
            "3  32758363399       java        broken               1.76      java-maven   \n",
            "4  32906849507     python        broken               1.92          python   \n",
            "\n",
            "  tr_log_frameworks  tr_log_bool_tests_ran  ...  \\\n",
            "0            pytest                   True  ...   \n",
            "1            pytest                   True  ...   \n",
            "2             JUnit                   True  ...   \n",
            "3             JUnit                   True  ...   \n",
            "4          unittest                   True  ...   \n",
            "\n",
            "                                          tr_err_msg  tr_build_image  \\\n",
            "0                                                NaN             NaN   \n",
            "1                                                NaN             NaN   \n",
            "2                                                NaN             NaN   \n",
            "3  Tests run: 8, Failures: 1, Errors: 0, Skipped:...             NaN   \n",
            "4                                                NaN             NaN   \n",
            "\n",
            "   tr_worker_instance  tr_using_worker  tr_os  tr_connection_lines  \\\n",
            "0                 NaN              NaN  jammy                  NaN   \n",
            "1                 NaN              NaN  jammy                  NaN   \n",
            "2                 NaN              NaN  jammy                  NaN   \n",
            "3                 NaN              NaN  jammy                  NaN   \n",
            "4                 NaN              NaN  jammy                  NaN   \n",
            "\n",
            "   tr_could_not_resolve_dep tr_cookbook  tr_invalid_log  tr_build_system  \n",
            "0                       NaN         NaN             NaN              NaN  \n",
            "1                       NaN         NaN             NaN              NaN  \n",
            "2                       NaN         NaN             NaN            Maven  \n",
            "3                       NaN         NaN             NaN            Maven  \n",
            "4                       NaN         NaN             NaN              NaN  \n",
            "\n",
            "[5 rows x 30 columns]\n"
          ]
        }
      ]
    },
    {
      "cell_type": "code",
      "source": [
        "# General Information\n",
        "reproducible_count = len(reproducible_df)\n",
        "unreproducible_count = len(unreproducible_df)\n",
        "\n",
        "# Count missing values per column\n",
        "missing_values_reproducible = reproducible_df.isnull().sum()\n",
        "missing_values_unreproducible = unreproducible_df.isnull().sum()\n",
        "\n",
        "# Count unique values per column\n",
        "unique_values_reproducible = reproducible_df.nunique()\n",
        "unique_values_unreproducible = unreproducible_df.nunique()\n",
        "\n",
        "# Describe numerical columns\n",
        "numerical_stats_reproducible = reproducible_df.describe()\n",
        "numerical_stats_unreproducible = unreproducible_df.describe()\n",
        "\n",
        "# Get most common values for categorical columns\n",
        "categorical_columns = ['tr_log_lan', 'tr_build_system', 'tr_log_frameworks']\n",
        "common_values_reproducible = {col: reproducible_df[col].mode()[0] if not reproducible_df[col].mode().empty else \"None\" for col in categorical_columns}\n",
        "common_values_unreproducible = {col: unreproducible_df[col].mode()[0] if not unreproducible_df[col].mode().empty else \"None\" for col in categorical_columns}\n",
        "\n",
        "# Save data to CSV files\n",
        "missing_values_reproducible.to_csv(os.path.join(data_dir,\"/missing_values_reproducible.csv\"))\n",
        "missing_values_unreproducible.to_csv(os.path.join(data_dir,\"/missing_values_unreproducible.csv\"))\n",
        "unique_values_reproducible.to_csv(os.path.join(data_dir,\"unique_values_reproducible.csv\"))\n",
        "unique_values_unreproducible.to_csv(os.path.join(data_dir,\"unique_values_unreproducible.csv\"))\n",
        "numerical_stats_reproducible.to_csv(os.path.join(data_dir,\"numerical_stats_reproducible.csv\"))\n",
        "numerical_stats_unreproducible.to_csv(os.path.join(data_dir,\"numerical_stats_unreproducible.csv\"))\n",
        "\n",
        "# Print key insights\n",
        "summary = {\n",
        "    \"Total Reproducible Builds\": reproducible_count,\n",
        "    \"Total Unreproducible Builds\": unreproducible_count,\n",
        "    \"Most Common Values in Reproducible\": common_values_reproducible,\n",
        "    \"Most Common Values in Unreproducible\": common_values_unreproducible\n",
        "}\n",
        "\n",
        "summary\n"
      ],
      "metadata": {
        "colab": {
          "base_uri": "https://localhost:8080/"
        },
        "id": "4WBfDLuo52bJ",
        "outputId": "4b009eb9-eaea-450e-9b78-a004ca7ac82b"
      },
      "execution_count": 58,
      "outputs": [
        {
          "output_type": "execute_result",
          "data": {
            "text/plain": [
              "{'Total Reproducible Builds': 6496,\n",
              " 'Total Unreproducible Builds': 753,\n",
              " 'Most Common Values in Reproducible': {'tr_log_lan': 'java',\n",
              "  'tr_build_system': 'Maven',\n",
              "  'tr_log_frameworks': 'JUnit'},\n",
              " 'Most Common Values in Unreproducible': {'tr_log_lan': 'python',\n",
              "  'tr_build_system': 'Maven',\n",
              "  'tr_log_frameworks': 'pytest'}}"
            ]
          },
          "metadata": {},
          "execution_count": 58
        }
      ]
    },
    {
      "cell_type": "markdown",
      "source": [
        "Load dataset"
      ],
      "metadata": {
        "id": "hs9rYcytzoyG"
      }
    },
    {
      "cell_type": "code",
      "source": [
        "df_counts = pd.DataFrame({\n",
        "    'Build Type': ['Reproducible', 'Unreproducible'],\n",
        "    'Count': [reproducible_count, unreproducible_count]\n",
        "})\n",
        "\n",
        "# Plot class distribution\n",
        "plt.figure(figsize=(6, 4))  # Set the figure size\n",
        "sns.barplot(x='Build Type', y='Count', data=df_counts, palette=['green', 'red'])  # Create a bar plot\n",
        "plt.title('Distribution of Reproducible vs. Unreproducible Builds')  # Set title\n",
        "plt.ylabel('Count')  # Label for y-axis\n",
        "plt.xlabel('Build Type')  # Label for x-axis\n",
        "plt.savefig(os.path.join(data_dir,\"class_distribution.png\"))  # Save the plot as an image file\n",
        "\n",
        "# Show the plot\n",
        "plt.show()"
      ],
      "metadata": {
        "colab": {
          "base_uri": "https://localhost:8080/",
          "height": 517
        },
        "id": "30mIIqBa73nV",
        "outputId": "2525c4ee-7210-4830-c34f-99615b5e6c28"
      },
      "execution_count": 60,
      "outputs": [
        {
          "output_type": "stream",
          "name": "stderr",
          "text": [
            "<ipython-input-60-c30bf6b4ffbe>:8: FutureWarning: \n",
            "\n",
            "Passing `palette` without assigning `hue` is deprecated and will be removed in v0.14.0. Assign the `x` variable to `hue` and set `legend=False` for the same effect.\n",
            "\n",
            "  sns.barplot(x='Build Type', y='Count', data=df_counts, palette=['green', 'red'])  # Create a bar plot\n"
          ]
        },
        {
          "output_type": "display_data",
          "data": {
            "text/plain": [
              "<Figure size 600x400 with 1 Axes>"
            ],
            "image/png": "[encoded data removed]"
          },
          "metadata": {}
        }
      ]
    },
    {
      "cell_type": "code",
      "source": [
        "# Assuming reproducible_df and unreproducible_df are loaded as pandas DataFrames\n",
        "\n",
        "# Count the occurrences of each language in both datasets\n",
        "lang_reproducible = reproducible_df['tr_log_lan'].value_counts()\n",
        "lang_unreproducible = unreproducible_df['tr_log_lan'].value_counts()\n",
        "\n",
        "# Combine counts into a single DataFrame for comparison\n",
        "lang_df = pd.DataFrame({'Reproducible': lang_reproducible, 'Unreproducible': lang_unreproducible}).fillna(0)\n",
        "print(lang_df.value_counts())\n",
        "# Plot\n",
        "plt.figure(figsize=(10, 5))\n",
        "lang_df.plot(kind='bar', stacked=True, figsize=(10, 5), color=['green', 'red'])\n",
        "plt.title('Programming Language Distribution in Reproducible vs. Unreproducible Builds')\n",
        "plt.xlabel('Programming Language')\n",
        "plt.ylabel('Count')\n",
        "plt.xticks(rotation=45)  # Rotate x-axis labels for better readability\n",
        "plt.legend(title=\"Build Status\")\n",
        "plt.savefig(os.path.join(data_dir,\"language_distribution.png\"))  # Save plot\n",
        "plt.show()\n"
      ],
      "metadata": {
        "colab": {
          "base_uri": "https://localhost:8080/",
          "height": 604
        },
        "id": "CBC6XK9Z8YWG",
        "outputId": "56be717f-637a-4637-e2c6-f3f725dc134b"
      },
      "execution_count": 64,
      "outputs": [
        {
          "output_type": "stream",
          "name": "stdout",
          "text": [
            "Reproducible  Unreproducible\n",
            "1076          529               1\n",
            "5420          224               1\n",
            "Name: count, dtype: int64\n"
          ]
        },
        {
          "output_type": "display_data",
          "data": {
            "text/plain": [
              "<Figure size 1000x500 with 0 Axes>"
            ]
          },
          "metadata": {}
        },
        {
          "output_type": "display_data",
          "data": {
            "text/plain": [
              "<Figure size 1000x500 with 1 Axes>"
            ],
            "image/png": "[encoded data removed]"
          },
          "metadata": {}
        }
      ]
    },
    {
      "cell_type": "code",
      "source": [
        "# Count the occurrences of each build system\n",
        "build_reproducible = reproducible_df['tr_build_system'].value_counts()\n",
        "build_unreproducible = unreproducible_df['tr_build_system'].value_counts()\n",
        "\n",
        "# Combine counts into a single DataFrame\n",
        "build_df = pd.DataFrame({'Reproducible': build_reproducible, 'Unreproducible': build_unreproducible}).fillna(0)\n",
        "print(build_df.value_counts())\n",
        "# Plot\n",
        "plt.figure(figsize=(8, 5))\n",
        "build_df.plot(kind='bar', stacked=True, figsize=(8, 5), color=['green', 'red'])\n",
        "plt.title('Build System Distribution in Reproducible vs. Unreproducible Builds')\n",
        "plt.xlabel('Build System')\n",
        "plt.ylabel('Count')\n",
        "plt.xticks(rotation=45)\n",
        "plt.legend(title=\"Build Status\")\n",
        "plt.savefig(os.path.join(data_dir,\"build_system_distribution.png\"))  # Save plot\n",
        "plt.show()\n"
      ],
      "metadata": {
        "colab": {
          "base_uri": "https://localhost:8080/",
          "height": 585
        },
        "id": "cAnV2HzN8nmp",
        "outputId": "43a92e2b-be05-42be-f522-f96897f4516d"
      },
      "execution_count": 65,
      "outputs": [
        {
          "output_type": "stream",
          "name": "stdout",
          "text": [
            "Reproducible  Unreproducible\n",
            "5420          224               1\n",
            "Name: count, dtype: int64\n"
          ]
        },
        {
          "output_type": "display_data",
          "data": {
            "text/plain": [
              "<Figure size 800x500 with 0 Axes>"
            ]
          },
          "metadata": {}
        },
        {
          "output_type": "display_data",
          "data": {
            "text/plain": [
              "<Figure size 800x500 with 1 Axes>"
            ],
            "image/png": "[encoded data removed]"
          },
          "metadata": {}
        }
      ]
    },
    {
      "cell_type": "code",
      "source": [
        "data = pd.read_csv('/content/Social_Network_Ads.csv')"
      ],
      "metadata": {
        "id": "f7U0PBnQzYTp"
      },
      "execution_count": null,
      "outputs": []
    },
    {
      "cell_type": "code",
      "source": [
        "# Separate features and labels\n",
        "X = data.iloc[:, :-1].values  # Select all columns except the last one\n",
        "y = data.iloc[:, -1].values   # Select the last column (labels)\n"
      ],
      "metadata": {
        "id": "es1zen8izmdI"
      },
      "execution_count": null,
      "outputs": []
    },
    {
      "cell_type": "code",
      "source": [
        "# Convert to PyTorch tensors\n",
        "X = torch.tensor(X, dtype=torch.float32)\n",
        "y = torch.tensor(y, dtype=torch.float32).view(-1, 1)  # Reshape y to be column vector"
      ],
      "metadata": {
        "colab": {
          "base_uri": "https://localhost:8080/",
          "height": 193
        },
        "id": "EAHfKT692w1f",
        "outputId": "95ff3bf4-b574-418d-ecef-fec9dbb64b71"
      },
      "execution_count": null,
      "outputs": [
        {
          "output_type": "error",
          "ename": "TypeError",
          "evalue": "can't convert np.ndarray of type numpy.object_. The only supported types are: float64, float32, float16, complex64, complex128, int64, int32, int16, int8, uint64, uint32, uint16, uint8, and bool.",
          "traceback": [
            "\u001b[0;31m---------------------------------------------------------------------------\u001b[0m",
            "\u001b[0;31mTypeError\u001b[0m                                 Traceback (most recent call last)",
            "\u001b[0;32m<ipython-input-17-92153fa5e14c>\u001b[0m in \u001b[0;36m<cell line: 0>\u001b[0;34m()\u001b[0m\n\u001b[1;32m      1\u001b[0m \u001b[0;31m# Convert to PyTorch tensors\u001b[0m\u001b[0;34m\u001b[0m\u001b[0;34m\u001b[0m\u001b[0m\n\u001b[0;32m----> 2\u001b[0;31m \u001b[0mX\u001b[0m \u001b[0;34m=\u001b[0m \u001b[0mtorch\u001b[0m\u001b[0;34m.\u001b[0m\u001b[0mtensor\u001b[0m\u001b[0;34m(\u001b[0m\u001b[0mX\u001b[0m\u001b[0;34m,\u001b[0m \u001b[0mdtype\u001b[0m\u001b[0;34m=\u001b[0m\u001b[0mtorch\u001b[0m\u001b[0;34m.\u001b[0m\u001b[0mfloat32\u001b[0m\u001b[0;34m)\u001b[0m\u001b[0;34m\u001b[0m\u001b[0;34m\u001b[0m\u001b[0m\n\u001b[0m\u001b[1;32m      3\u001b[0m \u001b[0my\u001b[0m \u001b[0;34m=\u001b[0m \u001b[0mtorch\u001b[0m\u001b[0;34m.\u001b[0m\u001b[0mtensor\u001b[0m\u001b[0;34m(\u001b[0m\u001b[0my\u001b[0m\u001b[0;34m,\u001b[0m \u001b[0mdtype\u001b[0m\u001b[0;34m=\u001b[0m\u001b[0mtorch\u001b[0m\u001b[0;34m.\u001b[0m\u001b[0mfloat32\u001b[0m\u001b[0;34m)\u001b[0m\u001b[0;34m.\u001b[0m\u001b[0mview\u001b[0m\u001b[0;34m(\u001b[0m\u001b[0;34m-\u001b[0m\u001b[0;36m1\u001b[0m\u001b[0;34m,\u001b[0m \u001b[0;36m1\u001b[0m\u001b[0;34m)\u001b[0m  \u001b[0;31m# Reshape y to be column vector\u001b[0m\u001b[0;34m\u001b[0m\u001b[0;34m\u001b[0m\u001b[0m\n",
            "\u001b[0;31mTypeError\u001b[0m: can't convert np.ndarray of type numpy.object_. The only supported types are: float64, float32, float16, complex64, complex128, int64, int32, int16, int8, uint64, uint32, uint16, uint8, and bool."
          ]
        }
      ]
    }
  ]
}